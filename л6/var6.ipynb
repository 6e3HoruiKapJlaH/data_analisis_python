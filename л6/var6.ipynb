{
 "cells": [
  {
   "cell_type": "code",
   "execution_count": 1,
   "metadata": {},
   "outputs": [
    {
     "data": {
      "text/html": [
       "<div>\n",
       "<style scoped>\n",
       "    .dataframe tbody tr th:only-of-type {\n",
       "        vertical-align: middle;\n",
       "    }\n",
       "\n",
       "    .dataframe tbody tr th {\n",
       "        vertical-align: top;\n",
       "    }\n",
       "\n",
       "    .dataframe thead th {\n",
       "        text-align: right;\n",
       "    }\n",
       "</style>\n",
       "<table border=\"1\" class=\"dataframe\">\n",
       "  <thead>\n",
       "    <tr style=\"text-align: right;\">\n",
       "      <th></th>\n",
       "      <th>ID</th>\n",
       "      <th>Warehouse_block</th>\n",
       "      <th>Mode_of_Shipment</th>\n",
       "      <th>Customer_care_calls</th>\n",
       "      <th>Customer_rating</th>\n",
       "      <th>Cost_of_the_Product</th>\n",
       "      <th>Prior_purchases</th>\n",
       "      <th>Product_importance</th>\n",
       "      <th>Gender</th>\n",
       "      <th>Discount_offered</th>\n",
       "      <th>Weight_in_gms</th>\n",
       "      <th>Reached.on.Time_Y.N</th>\n",
       "    </tr>\n",
       "  </thead>\n",
       "  <tbody>\n",
       "    <tr>\n",
       "      <th>0</th>\n",
       "      <td>1</td>\n",
       "      <td>D</td>\n",
       "      <td>Flight</td>\n",
       "      <td>4.0</td>\n",
       "      <td>2.0</td>\n",
       "      <td>177.0</td>\n",
       "      <td>3</td>\n",
       "      <td>low</td>\n",
       "      <td>F</td>\n",
       "      <td>44.0</td>\n",
       "      <td>1233.0</td>\n",
       "      <td>1.0</td>\n",
       "    </tr>\n",
       "    <tr>\n",
       "      <th>1</th>\n",
       "      <td>2</td>\n",
       "      <td>F</td>\n",
       "      <td>Flight</td>\n",
       "      <td>4.0</td>\n",
       "      <td>5.0</td>\n",
       "      <td>216.0</td>\n",
       "      <td>2</td>\n",
       "      <td>low</td>\n",
       "      <td>M</td>\n",
       "      <td>59.0</td>\n",
       "      <td>3088.0</td>\n",
       "      <td>1.0</td>\n",
       "    </tr>\n",
       "    <tr>\n",
       "      <th>2</th>\n",
       "      <td>3</td>\n",
       "      <td>A</td>\n",
       "      <td>Flight</td>\n",
       "      <td>2.0</td>\n",
       "      <td>2.0</td>\n",
       "      <td>183.0</td>\n",
       "      <td>4</td>\n",
       "      <td>low</td>\n",
       "      <td>M</td>\n",
       "      <td>48.0</td>\n",
       "      <td>3374.0</td>\n",
       "      <td>1.0</td>\n",
       "    </tr>\n",
       "    <tr>\n",
       "      <th>3</th>\n",
       "      <td>4</td>\n",
       "      <td>B</td>\n",
       "      <td>Flight</td>\n",
       "      <td>3.0</td>\n",
       "      <td>3.0</td>\n",
       "      <td>176.0</td>\n",
       "      <td>4</td>\n",
       "      <td>medium</td>\n",
       "      <td>M</td>\n",
       "      <td>10.0</td>\n",
       "      <td>1177.0</td>\n",
       "      <td>1.0</td>\n",
       "    </tr>\n",
       "    <tr>\n",
       "      <th>4</th>\n",
       "      <td>5</td>\n",
       "      <td>C</td>\n",
       "      <td>Flight</td>\n",
       "      <td>2.0</td>\n",
       "      <td>2.0</td>\n",
       "      <td>184.0</td>\n",
       "      <td>3</td>\n",
       "      <td>medium</td>\n",
       "      <td>F</td>\n",
       "      <td>46.0</td>\n",
       "      <td>2484.0</td>\n",
       "      <td>1.0</td>\n",
       "    </tr>\n",
       "  </tbody>\n",
       "</table>\n",
       "</div>"
      ],
      "text/plain": [
       "   ID Warehouse_block Mode_of_Shipment  Customer_care_calls  Customer_rating  \\\n",
       "0   1               D           Flight                  4.0              2.0   \n",
       "1   2               F           Flight                  4.0              5.0   \n",
       "2   3               A           Flight                  2.0              2.0   \n",
       "3   4               B           Flight                  3.0              3.0   \n",
       "4   5               C           Flight                  2.0              2.0   \n",
       "\n",
       "   Cost_of_the_Product Prior_purchases Product_importance Gender  \\\n",
       "0                177.0               3                low      F   \n",
       "1                216.0               2                low      M   \n",
       "2                183.0               4                low      M   \n",
       "3                176.0               4             medium      M   \n",
       "4                184.0               3             medium      F   \n",
       "\n",
       "   Discount_offered  Weight_in_gms  Reached.on.Time_Y.N  \n",
       "0              44.0         1233.0                  1.0  \n",
       "1              59.0         3088.0                  1.0  \n",
       "2              48.0         3374.0                  1.0  \n",
       "3              10.0         1177.0                  1.0  \n",
       "4              46.0         2484.0                  1.0  "
      ]
     },
     "execution_count": 1,
     "metadata": {},
     "output_type": "execute_result"
    }
   ],
   "source": [
    "import pandas as pd\n",
    "import  numpy as np\n",
    "\n",
    "#Read file version 5.json \n",
    "data = pd.read_json(\"Version 5.json\", orient='records')\n",
    "\n",
    "data.head()"
   ]
  },
  {
   "cell_type": "code",
   "execution_count": 2,
   "metadata": {},
   "outputs": [
    {
     "name": "stdout",
     "output_type": "stream",
     "text": [
      "<class 'pandas.core.frame.DataFrame'>\n",
      "RangeIndex: 1495 entries, 0 to 1494\n",
      "Data columns (total 12 columns):\n",
      " #   Column               Non-Null Count  Dtype  \n",
      "---  ------               --------------  -----  \n",
      " 0   ID                   1495 non-null   int64  \n",
      " 1   Warehouse_block      1494 non-null   object \n",
      " 2   Mode_of_Shipment     1493 non-null   object \n",
      " 3   Customer_care_calls  1492 non-null   float64\n",
      " 4   Customer_rating      1493 non-null   float64\n",
      " 5   Cost_of_the_Product  1493 non-null   float64\n",
      " 6   Prior_purchases      1494 non-null   object \n",
      " 7   Product_importance   1493 non-null   object \n",
      " 8   Gender               1494 non-null   object \n",
      " 9   Discount_offered     1494 non-null   float64\n",
      " 10  Weight_in_gms        1493 non-null   float64\n",
      " 11  Reached.on.Time_Y.N  1493 non-null   float64\n",
      "dtypes: float64(6), int64(1), object(5)\n",
      "memory usage: 140.3+ KB\n"
     ]
    }
   ],
   "source": [
    "data.info()"
   ]
  },
  {
   "cell_type": "code",
   "execution_count": 3,
   "metadata": {},
   "outputs": [
    {
     "data": {
      "text/html": [
       "<div>\n",
       "<style scoped>\n",
       "    .dataframe tbody tr th:only-of-type {\n",
       "        vertical-align: middle;\n",
       "    }\n",
       "\n",
       "    .dataframe tbody tr th {\n",
       "        vertical-align: top;\n",
       "    }\n",
       "\n",
       "    .dataframe thead th {\n",
       "        text-align: right;\n",
       "    }\n",
       "</style>\n",
       "<table border=\"1\" class=\"dataframe\">\n",
       "  <thead>\n",
       "    <tr style=\"text-align: right;\">\n",
       "      <th></th>\n",
       "      <th>ID</th>\n",
       "      <th>Warehouse_block</th>\n",
       "      <th>Mode_of_Shipment</th>\n",
       "      <th>Customer_care_calls</th>\n",
       "      <th>Customer_rating</th>\n",
       "      <th>Cost_of_the_Product</th>\n",
       "      <th>Prior_purchases</th>\n",
       "      <th>Product_importance</th>\n",
       "      <th>Gender</th>\n",
       "      <th>Discount_offered</th>\n",
       "      <th>Weight_in_gms</th>\n",
       "      <th>Reached.on.Time_Y.N</th>\n",
       "    </tr>\n",
       "  </thead>\n",
       "  <tbody>\n",
       "    <tr>\n",
       "      <th>165</th>\n",
       "      <td>166</td>\n",
       "      <td>None</td>\n",
       "      <td>None</td>\n",
       "      <td>NaN</td>\n",
       "      <td>NaN</td>\n",
       "      <td>NaN</td>\n",
       "      <td>None</td>\n",
       "      <td>None</td>\n",
       "      <td>None</td>\n",
       "      <td>NaN</td>\n",
       "      <td>NaN</td>\n",
       "      <td>NaN</td>\n",
       "    </tr>\n",
       "    <tr>\n",
       "      <th>185</th>\n",
       "      <td>186</td>\n",
       "      <td>F</td>\n",
       "      <td>Ship</td>\n",
       "      <td>3.0</td>\n",
       "      <td>2.0</td>\n",
       "      <td>209.0</td>\n",
       "      <td>3</td>\n",
       "      <td>None</td>\n",
       "      <td>M</td>\n",
       "      <td>54.0</td>\n",
       "      <td>3001.0</td>\n",
       "      <td>1.0</td>\n",
       "    </tr>\n",
       "    <tr>\n",
       "      <th>191</th>\n",
       "      <td>192</td>\n",
       "      <td>F</td>\n",
       "      <td>Ship</td>\n",
       "      <td>NaN</td>\n",
       "      <td>133.0</td>\n",
       "      <td>3.0</td>\n",
       "      <td>low</td>\n",
       "      <td>F</td>\n",
       "      <td>62</td>\n",
       "      <td>1596.0</td>\n",
       "      <td>1.0</td>\n",
       "      <td>NaN</td>\n",
       "    </tr>\n",
       "    <tr>\n",
       "      <th>239</th>\n",
       "      <td>240</td>\n",
       "      <td>F</td>\n",
       "      <td>Ship</td>\n",
       "      <td>2.0</td>\n",
       "      <td>3.0</td>\n",
       "      <td>158.0</td>\n",
       "      <td>3</td>\n",
       "      <td>low</td>\n",
       "      <td>M</td>\n",
       "      <td>10.0</td>\n",
       "      <td>NaN</td>\n",
       "      <td>1.0</td>\n",
       "    </tr>\n",
       "    <tr>\n",
       "      <th>1353</th>\n",
       "      <td>1348</td>\n",
       "      <td>B</td>\n",
       "      <td>None</td>\n",
       "      <td>NaN</td>\n",
       "      <td>NaN</td>\n",
       "      <td>NaN</td>\n",
       "      <td>6</td>\n",
       "      <td>low</td>\n",
       "      <td>M</td>\n",
       "      <td>30.0</td>\n",
       "      <td>2751.0</td>\n",
       "      <td>1.0</td>\n",
       "    </tr>\n",
       "  </tbody>\n",
       "</table>\n",
       "</div>"
      ],
      "text/plain": [
       "        ID Warehouse_block Mode_of_Shipment  Customer_care_calls  \\\n",
       "165    166            None             None                  NaN   \n",
       "185    186               F             Ship                  3.0   \n",
       "191    192               F             Ship                  NaN   \n",
       "239    240               F             Ship                  2.0   \n",
       "1353  1348               B             None                  NaN   \n",
       "\n",
       "      Customer_rating  Cost_of_the_Product Prior_purchases Product_importance  \\\n",
       "165               NaN                  NaN            None               None   \n",
       "185               2.0                209.0               3               None   \n",
       "191             133.0                  3.0             low                  F   \n",
       "239               3.0                158.0               3                low   \n",
       "1353              NaN                  NaN               6                low   \n",
       "\n",
       "     Gender  Discount_offered  Weight_in_gms  Reached.on.Time_Y.N  \n",
       "165    None               NaN            NaN                  NaN  \n",
       "185       M              54.0         3001.0                  1.0  \n",
       "191      62            1596.0            1.0                  NaN  \n",
       "239       M              10.0            NaN                  1.0  \n",
       "1353      M              30.0         2751.0                  1.0  "
      ]
     },
     "execution_count": 3,
     "metadata": {},
     "output_type": "execute_result"
    }
   ],
   "source": [
    "failed_data = data[data.Warehouse_block.isnull() |      data.Mode_of_Shipment.isnull() |      data.Customer_care_calls.isnull() |      data.Product_importance.isnull() |      data.Weight_in_gms.isnull() | data.Customer_rating.isnull() |      data.Cost_of_the_Product.isnull() |     data.Prior_purchases.isnull() |     data.Product_importance.isnull() |     data.Gender.isnull() |     data.Discount_offered.isnull() ]\n",
    "failed_data.head()\n"
   ]
  },
  {
   "cell_type": "code",
   "execution_count": 4,
   "metadata": {},
   "outputs": [
    {
     "name": "stdout",
     "output_type": "stream",
     "text": [
      "<class 'pandas.core.frame.DataFrame'>\n",
      "Int64Index: 1490 entries, 0 to 1494\n",
      "Data columns (total 12 columns):\n",
      " #   Column               Non-Null Count  Dtype  \n",
      "---  ------               --------------  -----  \n",
      " 0   ID                   1490 non-null   int64  \n",
      " 1   Warehouse_block      1490 non-null   object \n",
      " 2   Mode_of_Shipment     1490 non-null   object \n",
      " 3   Customer_care_calls  1490 non-null   float64\n",
      " 4   Customer_rating      1490 non-null   float64\n",
      " 5   Cost_of_the_Product  1490 non-null   float64\n",
      " 6   Prior_purchases      1490 non-null   object \n",
      " 7   Product_importance   1490 non-null   object \n",
      " 8   Gender               1490 non-null   object \n",
      " 9   Discount_offered     1490 non-null   float64\n",
      " 10  Weight_in_gms        1490 non-null   float64\n",
      " 11  Reached.on.Time_Y.N  1490 non-null   float64\n",
      "dtypes: float64(6), int64(1), object(5)\n",
      "memory usage: 151.3+ KB\n"
     ]
    }
   ],
   "source": [
    "data.drop(failed_data.index, inplace=True)\n",
    "data.info()"
   ]
  },
  {
   "cell_type": "code",
   "execution_count": 5,
   "metadata": {},
   "outputs": [
    {
     "data": {
      "text/html": [
       "<div>\n",
       "<style scoped>\n",
       "    .dataframe tbody tr th:only-of-type {\n",
       "        vertical-align: middle;\n",
       "    }\n",
       "\n",
       "    .dataframe tbody tr th {\n",
       "        vertical-align: top;\n",
       "    }\n",
       "\n",
       "    .dataframe thead th {\n",
       "        text-align: right;\n",
       "    }\n",
       "</style>\n",
       "<table border=\"1\" class=\"dataframe\">\n",
       "  <thead>\n",
       "    <tr style=\"text-align: right;\">\n",
       "      <th></th>\n",
       "      <th>ID</th>\n",
       "      <th>Warehouse_block</th>\n",
       "      <th>Mode_of_Shipment</th>\n",
       "      <th>Customer_care_calls</th>\n",
       "      <th>Customer_rating</th>\n",
       "      <th>Cost_of_the_Product</th>\n",
       "      <th>Prior_purchases</th>\n",
       "      <th>Product_importance</th>\n",
       "      <th>Gender</th>\n",
       "      <th>Discount_offered</th>\n",
       "      <th>Weight_in_gms</th>\n",
       "      <th>Reached.on.Time_Y.N</th>\n",
       "    </tr>\n",
       "  </thead>\n",
       "  <tbody>\n",
       "    <tr>\n",
       "      <th>0</th>\n",
       "      <td>0</td>\n",
       "      <td>D</td>\n",
       "      <td>Flight</td>\n",
       "      <td>4.0</td>\n",
       "      <td>2.0</td>\n",
       "      <td>177.0</td>\n",
       "      <td>3</td>\n",
       "      <td>low</td>\n",
       "      <td>F</td>\n",
       "      <td>44.0</td>\n",
       "      <td>1233.0</td>\n",
       "      <td>1.0</td>\n",
       "    </tr>\n",
       "    <tr>\n",
       "      <th>1</th>\n",
       "      <td>1</td>\n",
       "      <td>F</td>\n",
       "      <td>Flight</td>\n",
       "      <td>4.0</td>\n",
       "      <td>5.0</td>\n",
       "      <td>216.0</td>\n",
       "      <td>2</td>\n",
       "      <td>low</td>\n",
       "      <td>M</td>\n",
       "      <td>59.0</td>\n",
       "      <td>3088.0</td>\n",
       "      <td>1.0</td>\n",
       "    </tr>\n",
       "    <tr>\n",
       "      <th>2</th>\n",
       "      <td>2</td>\n",
       "      <td>A</td>\n",
       "      <td>Flight</td>\n",
       "      <td>2.0</td>\n",
       "      <td>2.0</td>\n",
       "      <td>183.0</td>\n",
       "      <td>4</td>\n",
       "      <td>low</td>\n",
       "      <td>M</td>\n",
       "      <td>48.0</td>\n",
       "      <td>3374.0</td>\n",
       "      <td>1.0</td>\n",
       "    </tr>\n",
       "    <tr>\n",
       "      <th>3</th>\n",
       "      <td>3</td>\n",
       "      <td>B</td>\n",
       "      <td>Flight</td>\n",
       "      <td>3.0</td>\n",
       "      <td>3.0</td>\n",
       "      <td>176.0</td>\n",
       "      <td>4</td>\n",
       "      <td>medium</td>\n",
       "      <td>M</td>\n",
       "      <td>10.0</td>\n",
       "      <td>1177.0</td>\n",
       "      <td>1.0</td>\n",
       "    </tr>\n",
       "    <tr>\n",
       "      <th>4</th>\n",
       "      <td>4</td>\n",
       "      <td>C</td>\n",
       "      <td>Flight</td>\n",
       "      <td>2.0</td>\n",
       "      <td>2.0</td>\n",
       "      <td>184.0</td>\n",
       "      <td>3</td>\n",
       "      <td>medium</td>\n",
       "      <td>F</td>\n",
       "      <td>46.0</td>\n",
       "      <td>2484.0</td>\n",
       "      <td>1.0</td>\n",
       "    </tr>\n",
       "  </tbody>\n",
       "</table>\n",
       "</div>"
      ],
      "text/plain": [
       "   ID Warehouse_block Mode_of_Shipment  Customer_care_calls  Customer_rating  \\\n",
       "0   0               D           Flight                  4.0              2.0   \n",
       "1   1               F           Flight                  4.0              5.0   \n",
       "2   2               A           Flight                  2.0              2.0   \n",
       "3   3               B           Flight                  3.0              3.0   \n",
       "4   4               C           Flight                  2.0              2.0   \n",
       "\n",
       "   Cost_of_the_Product Prior_purchases Product_importance Gender  \\\n",
       "0                177.0               3                low      F   \n",
       "1                216.0               2                low      M   \n",
       "2                183.0               4                low      M   \n",
       "3                176.0               4             medium      M   \n",
       "4                184.0               3             medium      F   \n",
       "\n",
       "   Discount_offered  Weight_in_gms  Reached.on.Time_Y.N  \n",
       "0              44.0         1233.0                  1.0  \n",
       "1              59.0         3088.0                  1.0  \n",
       "2              48.0         3374.0                  1.0  \n",
       "3              10.0         1177.0                  1.0  \n",
       "4              46.0         2484.0                  1.0  "
      ]
     },
     "execution_count": 5,
     "metadata": {},
     "output_type": "execute_result"
    }
   ],
   "source": [
    "data[\"ID\"] = data.index\n",
    "data.head()"
   ]
  },
  {
   "cell_type": "code",
   "execution_count": 6,
   "metadata": {},
   "outputs": [],
   "source": [
    "data.columns = [\"ID\",\"Warehouse_block\",\"Shipment_method\",\"Calls_to_customer_support\",\"Customer_rating\",\"Product_cost\",\"Previous_purchases\",\"Product_importance\",\"Sex\",\"Discount_offered\",\"Weight_in_grams\",\"Delivered_on_Time\"]\n",
    "data['ID'] = data['ID'].astype(int)\n",
    "data['Warehouse_block'] = data['Warehouse_block'].astype('category')\n",
    "data['Shipment_method'] = data['Shipment_method'].astype('category')\n",
    "data['Calls_to_customer_support'] = data['Calls_to_customer_support'].astype(int)\n",
    "data['Customer_rating'] = data['Customer_rating'].astype(int)\n",
    "data['Product_cost'] = data['Product_cost'].astype(int)\n",
    "data['Previous_purchases'] = data['Previous_purchases'].astype(int)\n",
    "data['Product_importance'] = data['Product_importance'].astype('category')\n",
    "data['Sex'] = data['Sex'].astype('category')\n",
    "data['Discount_offered'] = data['Discount_offered'].astype(int)\n",
    "data['Weight_in_grams'] = data['Weight_in_grams'].astype(int)\n",
    "data['Delivered_on_Time'] = data['Delivered_on_Time'].astype('category')\n"
   ]
  },
  {
   "cell_type": "code",
   "execution_count": 7,
   "metadata": {},
   "outputs": [
    {
     "data": {
      "text/plain": [
       "['D', 'F', 'A', 'B', 'C', 'AAAAAA']\n",
       "Categories (6, object): ['A', 'AAAAAA', 'B', 'C', 'D', 'F']"
      ]
     },
     "execution_count": 7,
     "metadata": {},
     "output_type": "execute_result"
    }
   ],
   "source": [
    "data[\"Warehouse_block\"].unique()"
   ]
  },
  {
   "cell_type": "code",
   "execution_count": 8,
   "metadata": {},
   "outputs": [
    {
     "data": {
      "text/plain": [
       "['D', 'F', 'A', 'B', 'C']\n",
       "Categories (5, object): ['A', 'B', 'C', 'D', 'F']"
      ]
     },
     "execution_count": 8,
     "metadata": {},
     "output_type": "execute_result"
    }
   ],
   "source": [
    "data[\"Warehouse_block\"] = data[\"Warehouse_block\"].replace(\"AAAAAA\", \"A\")\n",
    "data[\"Warehouse_block\"].unique()"
   ]
  },
  {
   "cell_type": "code",
   "execution_count": 9,
   "metadata": {},
   "outputs": [
    {
     "data": {
      "text/plain": [
       "['Flight', 'Flightttttttttt', 'Ship', 'Road', '???']\n",
       "Categories (5, object): ['???', 'Flight', 'Flightttttttttt', 'Road', 'Ship']"
      ]
     },
     "execution_count": 9,
     "metadata": {},
     "output_type": "execute_result"
    }
   ],
   "source": [
    "data[\"Shipment_method\"].unique()"
   ]
  },
  {
   "cell_type": "code",
   "execution_count": 10,
   "metadata": {},
   "outputs": [
    {
     "data": {
      "text/plain": [
       "['Flight', 'Ship', 'Road', '?']\n",
       "Categories (4, object): ['?', 'Flight', 'Road', 'Ship']"
      ]
     },
     "execution_count": 10,
     "metadata": {},
     "output_type": "execute_result"
    }
   ],
   "source": [
    "data[\"Shipment_method\"] = data[\"Shipment_method\"].replace(\"Flightttttttttt\", \"Flight\")\n",
    "data[\"Shipment_method\"] = data[\"Shipment_method\"].replace(\"???\", \"?\")\n",
    "data[\"Shipment_method\"].unique()"
   ]
  },
  {
   "cell_type": "code",
   "execution_count": 11,
   "metadata": {},
   "outputs": [
    {
     "data": {
      "text/plain": [
       "['F', 'M', 'Male', 'Female']\n",
       "Categories (4, object): ['F', 'Female', 'M', 'Male']"
      ]
     },
     "execution_count": 11,
     "metadata": {},
     "output_type": "execute_result"
    }
   ],
   "source": [
    "data[\"Sex\"].unique()"
   ]
  },
  {
   "cell_type": "code",
   "execution_count": 12,
   "metadata": {},
   "outputs": [
    {
     "data": {
      "text/plain": [
       "['F', 'M']\n",
       "Categories (2, object): ['F', 'M']"
      ]
     },
     "execution_count": 12,
     "metadata": {},
     "output_type": "execute_result"
    }
   ],
   "source": [
    "data[\"Sex\"] = data[\"Sex\"].replace(\"Female\", \"F\")\n",
    "data[\"Sex\"] = data[\"Sex\"].replace(\"Male\", \"M\")\n",
    "data[\"Sex\"].unique()"
   ]
  },
  {
   "cell_type": "code",
   "execution_count": null,
   "metadata": {},
   "outputs": [],
   "source": [
    "data.to_json(\"Version 6.json\", orient='records')"
   ]
  }
 ],
 "metadata": {
  "kernelspec": {
   "display_name": "Python 3",
   "language": "python",
   "name": "python3"
  },
  "language_info": {
   "codemirror_mode": {
    "name": "ipython",
    "version": 3
   },
   "file_extension": ".py",
   "mimetype": "text/x-python",
   "name": "python",
   "nbconvert_exporter": "python",
   "pygments_lexer": "ipython3",
   "version": "3.10.1"
  },
  "orig_nbformat": 4,
  "vscode": {
   "interpreter": {
    "hash": "4dc89edc74e5be39702bf727bfcd21881f2a5c90486cea41495a731eb82ec981"
   }
  }
 },
 "nbformat": 4,
 "nbformat_minor": 2
}
